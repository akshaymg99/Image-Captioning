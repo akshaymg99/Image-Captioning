{
 "cells": [
  {
   "cell_type": "code",
   "execution_count": null,
   "metadata": {},
   "outputs": [],
   "source": [
    "import numpy as np\n",
    "import pandas as pd\n",
    "import matplotlib.pyplot as plt\n",
    "import tensorflow as tf\n",
    "import nltk\n",
    "import pickle\n",
    "import glob\n",
    "from os import path\n",
    "from PIL import Image\n",
    "from tqdm import tqdm\n",
    "from tensorflow import keras\n",
    "from tensorflow.keras import layers, Input\n",
    "from tensorflow.keras.preprocessing import sequence\n",
    "from tensorflow.keras.applications import InceptionV3\n",
    "from tensorflow.keras.preprocessing import image\n",
    "from tensorflow.keras import Model\n",
    "%matplotlib inline"
   ]
  },
  {
   "cell_type": "code",
   "execution_count": null,
   "metadata": {},
   "outputs": [],
   "source": [
    "def split_data(l):\n",
    "    temp = []\n",
    "    for i in img:\n",
    "        if i[len(images):] in l:\n",
    "            temp.append(i)\n",
    "    return temp\n",
    "\n",
    "def preprocess_input(x):\n",
    "    x /= 255.\n",
    "    x -= 0.5\n",
    "    x *= 2.\n",
    "    return x\n",
    "\n",
    "def preprocess(image_path):\n",
    "    img = image.load_img(image_path, target_size=(299, 299))\n",
    "    x = image.img_to_array(img)\n",
    "    x = np.expand_dims(x, axis=0)\n",
    "    x = preprocess_input(x)\n",
    "    return x\n",
    "\n",
    "def encode(image):\n",
    "    image = preprocess(image)\n",
    "    temp_enc = model_new.predict(image)\n",
    "    temp_enc = np.reshape(temp_enc, temp_enc.shape[1])\n",
    "    return temp_enc\n",
    "\n",
    "def data_generator(batch_size = 32):\n",
    "        partial_caps = []\n",
    "        next_words = []\n",
    "        images = []\n",
    "        \n",
    "        df = pd.read_csv('../custom/flickr8k_training_dataset.txt', delimiter='\\t')\n",
    "        df = df.sample(frac=1) \n",
    "        iter = df.iterrows()\n",
    "        c = []\n",
    "        imgs = []\n",
    "        for i in range(df.shape[0]):\n",
    "            x = next(iter)\n",
    "            c.append(x[1][1])\n",
    "            imgs.append(x[1][0])\n",
    "\n",
    "        count = 0\n",
    "        while True:\n",
    "            for j, text in enumerate(c):\n",
    "                current_image = encoding_train[imgs[j]]\n",
    "                for i in range(len(text.split())-1):\n",
    "                    count+=1                    \n",
    "                    partial = [word2idx[txt] for txt in text.split()[:i+1]]\n",
    "                    partial_caps.append(partial)\n",
    "                    n = np.zeros(vocab_size)\n",
    "                    n[word2idx[text.split()[i+1]]] = 1\n",
    "                    next_words.append(n)\n",
    "                    images.append(current_image)\n",
    "\n",
    "                    if count>=batch_size:\n",
    "                        next_words = np.asarray(next_words)\n",
    "                        images = np.asarray(images)\n",
    "                        partial_caps = sequence.pad_sequences(partial_caps, maxlen=max_len, padding='post')\n",
    "                        yield ([images, partial_caps], next_words) \n",
    "                        partial_caps = []\n",
    "                        next_words = []\n",
    "                        images = []\n",
    "                        count = 0\n",
    "                        \n",
    "def predict_captions(image):\n",
    "    start_word = [\"<start>\"]\n",
    "    while True:\n",
    "        par_caps = [word2idx[i] for i in start_word]\n",
    "        par_caps = sequence.pad_sequences([par_caps], maxlen=max_len, padding='post')\n",
    "        if image in test_img:\n",
    "          e = encoding_test[image[len(images):]]\n",
    "        elif image in train_img:\n",
    "          e = encoding_train[image[len(images):]]\n",
    "        else:\n",
    "          e = encode(image)\n",
    "        preds = final_model.predict([np.array([e]), np.array(par_caps)])\n",
    "        word_pred = idx2word[np.argmax(preds[0])]\n",
    "        start_word.append(word_pred)\n",
    "        if word_pred == \"<end>\" or len(start_word) > max_len:\n",
    "            break\n",
    "            \n",
    "    return ' '.join(start_word[1:-1])\n",
    "\n",
    "def beam_search_predictions(image, beam_index = 3):\n",
    "    start = [word2idx[\"<start>\"]]\n",
    "    start_word = [[start, 0.0]]\n",
    "    while len(start_word[0][0]) < max_len:\n",
    "        temp = []\n",
    "        for s in start_word:\n",
    "            par_caps = sequence.pad_sequences([s[0]], maxlen=max_len, padding='post')\n",
    "            if image in test_img:\n",
    "              e = encoding_test[image[len(images):]]\n",
    "            elif image in train_img:\n",
    "              e = encoding_train[image[len(images):]]\n",
    "            else:\n",
    "              e = encode(image)\n",
    "            preds = final_model.predict([np.array([e]), np.array(par_caps)])\n",
    "            word_preds = np.argsort(preds[0])[-beam_index:]\n",
    "            for w in word_preds:\n",
    "                next_cap, prob = s[0][:], s[1]\n",
    "                next_cap.append(w)\n",
    "                prob += preds[0][w]\n",
    "                temp.append([next_cap, prob])\n",
    "        start_word = temp\n",
    "        start_word = sorted(start_word, reverse=False, key=lambda l: l[1])\n",
    "        start_word = start_word[-beam_index:]\n",
    "        \n",
    "    start_word = start_word[-1][0]\n",
    "    intermediate_caption = [idx2word[i] for i in start_word]\n",
    "    final_caption = []\n",
    "    for i in intermediate_caption:\n",
    "        if i != '<end>':\n",
    "            final_caption.append(i)\n",
    "        else:\n",
    "            break    \n",
    "    final_caption = ' '.join(final_caption[1:])\n",
    "    return final_caption"
   ]
  },
  {
   "cell_type": "code",
   "execution_count": null,
   "metadata": {},
   "outputs": [],
   "source": [
    "images = \"../input/flickr8k/Images\"\n",
    "dataset_folder = \"../input/flickr8k-text/\"\n",
    "token = dataset_folder + 'flickr8k.token.txt'\n",
    "train_images_file = dataset_folder + 'flickr_8k.trainImages.txt'\n",
    "val_images_file = dataset_folder + 'flickr_8k.devImages.txt'\n",
    "test_images_file = dataset_folder + 'flickr_8k.testImages.txt'"
   ]
  },
  {
   "cell_type": "code",
   "execution_count": null,
   "metadata": {},
   "outputs": [],
   "source": [
    "with open(token,\"r\") as file:\n",
    "  captions = file.read().strip().split(\"\\n\")"
   ]
  },
  {
   "cell_type": "code",
   "execution_count": null,
   "metadata": {},
   "outputs": [],
   "source": [
    "d = {}\n",
    "for i, row in enumerate(captions):\n",
    "    row = row.split('\\t')\n",
    "    row[0] = row[0][:len(row[0])-2]\n",
    "    if row[0] in d:\n",
    "        d[row[0]].append(row[1])\n",
    "    else:\n",
    "        d[row[0]] = [row[1]]"
   ]
  },
  {
   "cell_type": "code",
   "execution_count": null,
   "metadata": {},
   "outputs": [],
   "source": [
    "img = glob.glob(images+'*.jpg')"
   ]
  },
  {
   "cell_type": "code",
   "execution_count": null,
   "metadata": {},
   "outputs": [],
   "source": [
    "train_images = set(open(train_images_file, 'r').read().strip().split('\\n'))\n",
    "train_img = split_data(train_images)\n",
    "print(f\"The train set contains {len(train_img)} out of 8000 images\")"
   ]
  },
  {
   "cell_type": "code",
   "execution_count": null,
   "metadata": {},
   "outputs": [],
   "source": [
    "val_images = set(open(val_images_file, 'r').read().strip().split('\\n'))\n",
    "val_img = split_data(val_images)\n",
    "print(f\"The dev set contains {len(val_img)} out of 8000 images\")"
   ]
  },
  {
   "cell_type": "code",
   "execution_count": null,
   "metadata": {},
   "outputs": [],
   "source": [
    "test_images = set(open(test_images_file, 'r').read().strip().split('\\n'))\n",
    "test_img = split_data(test_images)\n",
    "print(f\"The test set contains {len(test_img)} out of 8000 images\")"
   ]
  },
  {
   "cell_type": "code",
   "execution_count": null,
   "metadata": {},
   "outputs": [],
   "source": [
    "model = InceptionV3(weights='imagenet')\n",
    "new_input = model.input\n",
    "hidden_layer = model.layers[-2].output\n",
    "model_new = Model(new_input, hidden_layer)"
   ]
  },
  {
   "cell_type": "code",
   "execution_count": null,
   "metadata": {},
   "outputs": [],
   "source": [
    "encoding_train = {}\n",
    "for img in tqdm(train_img):\n",
    "    encoding_train[img[len(images):]] = encode(img)"
   ]
  },
  {
   "cell_type": "code",
   "execution_count": null,
   "metadata": {},
   "outputs": [],
   "source": [
    "encoding_test = {}\n",
    "for img in tqdm(test_img):\n",
    "    encoding_test[img[len(images):]] = encode(img)"
   ]
  },
  {
   "cell_type": "code",
   "execution_count": null,
   "metadata": {},
   "outputs": [],
   "source": [
    "train_d = {}\n",
    "val_d = {}\n",
    "test_d = {}\n",
    "\n",
    "for i in train_img:\n",
    "    if i[len(images):] in d:\n",
    "        train_d[i] = d[i[len(images):]]\n",
    "\n",
    "for i in val_img:\n",
    "    if i[len(images):] in d:\n",
    "        val_d[i] = d[i[len(images):]]\n",
    "\n",
    "for i in test_img:\n",
    "    if i[len(images):] in d:\n",
    "        test_d[i] = d[i[len(images):]]"
   ]
  },
  {
   "cell_type": "code",
   "execution_count": null,
   "metadata": {},
   "outputs": [],
   "source": [
    "caps = []\n",
    "for key, val in train_d.items():\n",
    "    for i in val:\n",
    "        caps.append('<start> ' + i + ' <end>')\n",
    "words = [i.split() for i in caps]"
   ]
  },
  {
   "cell_type": "code",
   "execution_count": null,
   "metadata": {},
   "outputs": [],
   "source": [
    "unique = []\n",
    "for i in words:\n",
    "    unique.extend(i)\n",
    "unique = list(set(unique))\n",
    "vocab_size = len(unique)"
   ]
  },
  {
   "cell_type": "code",
   "execution_count": null,
   "metadata": {},
   "outputs": [],
   "source": [
    "word2idx = {val:index for index, val in enumerate(unique)}\n",
    "idx2word = {index:val for index, val in enumerate(unique)}"
   ]
  },
  {
   "cell_type": "code",
   "execution_count": null,
   "metadata": {},
   "outputs": [],
   "source": [
    "max_len = 0\n",
    "for c in caps:\n",
    "    c = c.split()\n",
    "    if len(c) > max_len:\n",
    "        max_len = len(c)"
   ]
  },
  {
   "cell_type": "code",
   "execution_count": null,
   "metadata": {},
   "outputs": [],
   "source": [
    "f = open('../custom/flickr8k_training_dataset.txt', 'w')\n",
    "f.write(\"image_id\\tcaptions\\n\")\n",
    "\n",
    "for key, val in train_d.items():\n",
    "    for i in val:\n",
    "        f.write(key[len(images):] + \"\\t\" + \"<start> \" + i +\" <end>\" + \"\\n\")\n",
    "\n",
    "f.close()"
   ]
  },
  {
   "cell_type": "code",
   "execution_count": null,
   "metadata": {},
   "outputs": [],
   "source": [
    "df = pd.read_csv('../custom/flickr8k_training_dataset.txt', delimiter='\\t')\n",
    "c = [i for i in df['captions']]\n",
    "imgs = [i for i in df['image_id']]"
   ]
  },
  {
   "cell_type": "code",
   "execution_count": null,
   "metadata": {},
   "outputs": [],
   "source": [
    "samples_per_epoch = 0\n",
    "for ca in caps:\n",
    "    samples_per_epoch += len(ca.split())-1\n",
    "print(samples_per_epoch)"
   ]
  },
  {
   "cell_type": "code",
   "execution_count": null,
   "metadata": {},
   "outputs": [],
   "source": [
    "embedding_size = 300\n",
    "max_len = 40\n",
    "vocab_size = 8256\n",
    "samples_per_epoch = 383454"
   ]
  },
  {
   "cell_type": "code",
   "execution_count": null,
   "metadata": {},
   "outputs": [],
   "source": [
    "image_input = Input(shape = (2048,))\n",
    "x = layers.Dense(embedding_size, activation='relu')(image_input)\n",
    "image_output = layers.RepeatVector(max_len)(x)\n",
    "image_model = Model(inputs=image_input,outputs = image_output)\n",
    "image_model.summary()"
   ]
  },
  {
   "cell_type": "code",
   "execution_count": null,
   "metadata": {},
   "outputs": [],
   "source": [
    "caption_input = Input(shape = (max_len,))\n",
    "y = layers.Embedding(vocab_size,embedding_size,input_length=max_len)(caption_input)\n",
    "y = layers.LSTM(256,return_sequences=True)(y)\n",
    "caption_output = layers.TimeDistributed(layers.Dense(embedding_size))(y)\n",
    "caption_model = Model(inputs = caption_input, outputs = caption_output)\n",
    "caption_model.summary()"
   ]
  },
  {
   "cell_type": "code",
   "execution_count": null,
   "metadata": {},
   "outputs": [],
   "source": [
    "conca = layers.Concatenate(axis=1)([image_model.output,caption_model.output])\n",
    "z = layers.Bidirectional(layers.LSTM(256, input_shape = (max_len,300), return_sequences=False))(conca)\n",
    "z = layers.Dense(vocab_size)(z)\n",
    "final_output = layers.Activation('softmax')(z)\n",
    "final_model = Model(inputs = [image_model.input,caption_model.input], outputs = final_output)\n",
    "final_model.summary()"
   ]
  },
  {
   "cell_type": "code",
   "execution_count": null,
   "metadata": {},
   "outputs": [],
   "source": [
    "optimizer = tf.keras.optimizers.Adam()\n",
    "final_model.compile(loss=tf.keras.losses.CategoricalCrossentropy(), optimizer=optimizer, metrics=['accuracy'])"
   ]
  },
  {
   "cell_type": "code",
   "execution_count": null,
   "metadata": {},
   "outputs": [],
   "source": [
    "final_model.fit(data_generator(batch_size=2048), steps_per_epoch = samples_per_epoch//2048, verbose=1,epochs = 30)"
   ]
  },
  {
   "cell_type": "code",
   "execution_count": null,
   "metadata": {},
   "outputs": [],
   "source": [
    "try_image = '../input/flickr8k/Images/101654506_8eb26cfb60.jpg'\n",
    "Image.open(try_image)"
   ]
  },
  {
   "cell_type": "code",
   "execution_count": null,
   "metadata": {},
   "outputs": [],
   "source": [
    "print ('Normal Max search:', predict_captions(try_image)) \n",
    "print ('Beam Search, k=3:', beam_search_predictions(try_image, beam_index=3))\n",
    "print ('Beam Search, k=5:', beam_search_predictions(try_image, beam_index=5))\n",
    "print ('Beam Search, k=7:', beam_search_predictions(try_image, beam_index=7))"
   ]
  }
 ],
 "metadata": {
  "kernelspec": {
   "display_name": "Python 3",
   "language": "python",
   "name": "python3"
  },
  "language_info": {
   "codemirror_mode": {
    "name": "ipython",
    "version": 3
   },
   "file_extension": ".py",
   "mimetype": "text/x-python",
   "name": "python",
   "nbconvert_exporter": "python",
   "pygments_lexer": "ipython3",
   "version": "3.8.5"
  }
 },
 "nbformat": 4,
 "nbformat_minor": 4
}
